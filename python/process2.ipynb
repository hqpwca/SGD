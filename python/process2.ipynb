{
 "cells": [
  {
   "cell_type": "code",
   "execution_count": 1,
   "metadata": {},
   "outputs": [
    {
     "name": "stdout",
     "output_type": "stream",
     "text": [
      "env: SCIPY_USE_PROPACK=1\n"
     ]
    }
   ],
   "source": [
    "%set_env SCIPY_USE_PROPACK=1\n",
    "\n",
    "import config\n",
    "\n",
    "import numpy as np\n",
    "import ctypes\n",
    "import sys\n",
    "from numpy.linalg import lstsq\n",
    "from numba import jit, njit\n",
    "import matplotlib.pyplot as plt\n",
    "import pickle\n",
    "\n",
    "from scipy.sparse import *\n",
    "from scipy.sparse.linalg import lsmr, lsqr, eigs\n",
    "\n",
    "import importlib\n",
    "import FORBILD\n",
    "\n",
    "importlib.reload(FORBILD)\n",
    "importlib.reload(config)\n",
    "\n",
    "from FORBILD import forbild_sinogram, forbild_sinogram_noquad, discrete_phantom\n",
    "from config import *\n",
    "\n",
    "np.set_printoptions(threshold=sys.maxsize, precision=3, linewidth=480)\n",
    "\n",
    "\n",
    "def forward_with_matrix(img, mat):\n",
    "    img = img.reshape(nx*ny, 1)\n",
    "    mat = mat.reshape(nnp*nu, nx*ny)\n",
    "\n",
    "    proj = mat @ img\n",
    "\n",
    "    return proj.reshape(nnp, nu)\n",
    "\n",
    "def backward_from_projection(sino, mat):\n",
    "    sino = sino.reshape(nnp*nu, 1)\n",
    "    mat = mat.reshape(nnp*nu, nx*ny)\n",
    "    \n",
    "    img, residual, _, _ = lstsq(mat, sino, rcond=None)\n",
    "\n",
    "    print(\"Residual: \", residual)\n",
    "\n",
    "    return img.reshape(nx, ny)\n",
    "\n",
    "def backward_from_projection_hex(sino, mat):\n",
    "    sino = sino.reshape(nnp*nu, 1)\n",
    "    mat = mat.reshape((nnp*nu, -1))\n",
    "    \n",
    "    img, residual, rank, _ = lstsq(mat, sino, rcond=None)\n",
    "\n",
    "    print(\"Residual: \", residual, \"Rank: \", rank)\n",
    "\n",
    "    return img\n",
    "\n",
    "def hex_mat_presolve(mat):\n",
    "    mat = mat.reshape(nnp*nu, -1)\n",
    "    mat1 = np.zeros((nnp*nu, nl*nc-np.floor(nl/2).astype(int)), dtype=np.float64)\n",
    "    pos = pos1 = 0\n",
    "\n",
    "    for i in range(nl):\n",
    "        if i%2 == 0:\n",
    "            mat1[:, pos1:pos1+nc] = mat[:, pos:pos+nc]\n",
    "            pos1 += nc\n",
    "            pos += nc\n",
    "        else:\n",
    "            mat1[:, pos1:pos1+nc-1] = mat[:, pos:pos+nc-1]\n",
    "            pos1 += nc-1\n",
    "            pos += nc\n",
    "    \n",
    "    return mat1\n",
    "\n",
    "def post_process_hex(img):\n",
    "    img1 = np.zeros((nl, nc), dtype=np.float64)\n",
    "    pos = 0\n",
    "\n",
    "    for i in range(nl):\n",
    "        if i%2 == 0:\n",
    "            img1[i] = img[pos:pos+nc].ravel()\n",
    "            pos += nc\n",
    "        else:\n",
    "            img1[i, :-1] = img[pos:pos+nc-1].ravel()\n",
    "            pos += nc-1\n",
    "    \n",
    "    return img1"
   ]
  },
  {
   "cell_type": "code",
   "execution_count": 2,
   "metadata": {},
   "outputs": [],
   "source": [
    "A_B0_sparse = pickle.load(open(\"./matrixes/A_B0_sparse_\" + str(nx) + '_' + str(ny) + \"_\" + str(nnp) + \"_\"+ str(nu) + \".pkl\", 'rb'))\n",
    "A_H0_sparse = pickle.load(open(\"./matrixes/A_H0_sparse_\" + str(H0_nl) + '_' + str(H0_nc) + \"_\" + str(nnp) + \"_\"+ str(nu) + \".pkl\", 'rb'))"
   ]
  },
  {
   "cell_type": "code",
   "execution_count": 3,
   "metadata": {},
   "outputs": [],
   "source": [
    "from scipy.sparse.linalg import svds"
   ]
  },
  {
   "cell_type": "code",
   "execution_count": 4,
   "metadata": {},
   "outputs": [
    {
     "name": "stdout",
     "output_type": "stream",
     "text": [
      "[0.]\n",
      "[0.]\n"
     ]
    }
   ],
   "source": [
    "B0_sm = svds(A_B0_sparse, k=1, which='SM', return_singular_vectors=False, solver='propack')\n",
    "print(B0_sm)\n",
    "H0_sm = svds(A_H0_sparse, k=1, which='SM', return_singular_vectors=False, solver='propack')\n",
    "print(H0_sm)"
   ]
  }
 ],
 "metadata": {
  "kernelspec": {
   "display_name": "Python 3",
   "language": "python",
   "name": "python3"
  },
  "language_info": {
   "codemirror_mode": {
    "name": "ipython",
    "version": 3
   },
   "file_extension": ".py",
   "mimetype": "text/x-python",
   "name": "python",
   "nbconvert_exporter": "python",
   "pygments_lexer": "ipython3",
   "version": "3.8.10"
  }
 },
 "nbformat": 4,
 "nbformat_minor": 2
}
